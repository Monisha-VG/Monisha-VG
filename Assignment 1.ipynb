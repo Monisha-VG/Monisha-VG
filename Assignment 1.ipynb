{
 "cells": [
  {
   "cell_type": "code",
   "execution_count": 13,
   "metadata": {},
   "outputs": [
    {
     "name": "stdout",
     "output_type": "stream",
     "text": [
      "2030,2065,2100,2135,2170,2205,2240,2275,2310,2345,2380,2415,2450,2485,2520,2555,2590,2625,2660,2695,2730,2765,2800,2835,2870,2905,2940,2975,3010,3045,3080,3115,3150,3185\n"
     ]
    }
   ],
   "source": [
    "#2 divisible by 7 but are not a multiple of 5, between 2000 and 3200 (both included).\n",
    "a=[]\n",
    "for i in range(2000,3200):\n",
    "    if (i%7 == 0) and (i%5 == 0):\n",
    "         a.append(str(i))\n",
    "print(','.join(a))\n",
    "        "
   ]
  },
  {
   "cell_type": "code",
   "execution_count": 11,
   "metadata": {},
   "outputs": [
    {
     "name": "stdout",
     "output_type": "stream",
     "text": [
      "enter the first name Monisha\n",
      "enter the last name VG\n",
      "ahsinoM GV\n"
     ]
    }
   ],
   "source": [
    "#3 Getting user input and display in reverse order with space inbetween first name and last name  \n",
    "a=input(\"enter the first name \")\n",
    "b=input(\"enter the last name \")\n",
    "c=a[::-1]\n",
    "d=b[::-1]\n",
    "print (c + ' '+ d)"
   ]
  },
  {
   "cell_type": "code",
   "execution_count": 6,
   "metadata": {},
   "outputs": [
    {
     "name": "stdout",
     "output_type": "stream",
     "text": [
      "905.142857142857\n"
     ]
    }
   ],
   "source": [
    "# 4 Volume of sphere V=4/3*pie*r^3 with diameter 12cm \n",
    "v=(4/3)*(22/7)*pow(12/2,3)\n",
    "print(v)\n"
   ]
  },
  {
   "cell_type": "code",
   "execution_count": 11,
   "metadata": {},
   "outputs": [
    {
     "name": "stdout",
     "output_type": "stream",
     "text": [
      "enter a sequenct of 10 numbers1 2 3 4 5 6 7 8 9 \n",
      "[1, 2, 3, 4, 5, 6, 7, 8, 9]\n"
     ]
    }
   ],
   "source": [
    "# task 2.1 Accepts a sequence of comma-separated numbers from console and generate a list.\n",
    "a=input(\"enter a sequenct of 10 numbers\")\n",
    "b=list(map(int,a.split()))\n",
    "print(b)"
   ]
  },
  {
   "cell_type": "code",
   "execution_count": 5,
   "metadata": {},
   "outputs": [
    {
     "name": "stdout",
     "output_type": "stream",
     "text": [
      "*\n",
      " \n",
      "**\n",
      " \n",
      "***\n",
      " \n",
      "****\n",
      " \n",
      "*****\n",
      " \n",
      "****\n",
      "***\n",
      "**\n",
      "*\n",
      "\n"
     ]
    }
   ],
   "source": [
    "# 2.2 nested for loop\n",
    "a=\"* \"\n",
    "x=0\n",
    "for y in range(1,6):\n",
    "    for z in range(1):\n",
    "        x=x+1\n",
    "        a=a*5\n",
    "        print(a[0:x])\n",
    "for y in range(1,6):\n",
    "    for z in range(1):\n",
    "        x=x-1\n",
    "        print(a[0:x])\n",
    "              "
   ]
  },
  {
   "cell_type": "code",
   "execution_count": 19,
   "metadata": {},
   "outputs": [
    {
     "name": "stdout",
     "output_type": "stream",
     "text": [
      "AcadGild\n",
      "dliGdacA\n"
     ]
    }
   ],
   "source": [
    "a=input()\n",
    "c=a[::-1]\n",
    "print(c)"
   ]
  },
  {
   "cell_type": "code",
   "execution_count": 24,
   "metadata": {},
   "outputs": [
    {
     "name": "stdout",
     "output_type": "stream",
     "text": [
      "WE, THE PEOPLE OF INDIA,\n",
      "      having solemnly resolved to constitute India into a SOVEREIGN, !\n",
      "                SOCIALIST, SECULAR, DEMOCRATIC REPUBLIC\n",
      "                          and to secure to all its citizens\n"
     ]
    }
   ],
   "source": [
    "# WE, THE PEOPLE OF INDIA, having solemnly resolved to constitute India into a SOVEREIGN, SOCIALIST, SECULAR, DEMOCRATIC REPUBLIC and to secure to all its citizens\n",
    "print(\"WE, THE PEOPLE OF INDIA,\")\n",
    "print(\"      having solemnly resolved to constitute India into a SOVEREIGN, !\")\n",
    "print(\"                SOCIALIST, SECULAR, DEMOCRATIC REPUBLIC\")\n",
    "print(\"                          and to secure to all its citizens\")"
   ]
  },
  {
   "cell_type": "code",
   "execution_count": null,
   "metadata": {},
   "outputs": [],
   "source": []
  }
 ],
 "metadata": {
  "kernelspec": {
   "display_name": "Python 3",
   "language": "python",
   "name": "python3"
  },
  "language_info": {
   "codemirror_mode": {
    "name": "ipython",
    "version": 3
   },
   "file_extension": ".py",
   "mimetype": "text/x-python",
   "name": "python",
   "nbconvert_exporter": "python",
   "pygments_lexer": "ipython3",
   "version": "3.7.6"
  }
 },
 "nbformat": 4,
 "nbformat_minor": 4
}
