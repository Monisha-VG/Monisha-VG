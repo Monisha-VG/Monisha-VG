{
 "cells": [
  {
   "cell_type": "code",
   "execution_count": 8,
   "metadata": {},
   "outputs": [
    {
     "name": "stdout",
     "output_type": "stream",
     "text": [
      "['A', 'C', 'A', 'D', 'G', 'I', 'L', 'D']\n",
      "['A', 'C', 'A', 'D', 'F', 'I', 'L', 'D']\n"
     ]
    }
   ],
   "source": [
    "#task 1 :: 2\n",
    "a='acadgild'\n",
    "b=a.upper()\n",
    "c = [i for i in b]\n",
    "print(c)\n",
    "\n",
    "#method 2\n",
    "a=[i for i in 'ACADFILD']\n",
    "print(a)"
   ]
  },
  {
   "cell_type": "code",
   "execution_count": 21,
   "metadata": {},
   "outputs": [
    {
     "name": "stdout",
     "output_type": "stream",
     "text": [
      "['x', 'xx', 'xxx', 'xxxx', 'y', 'yy', 'yyy', 'yyyy', 'z', 'zz', 'zzz', 'zzzz']\n"
     ]
    }
   ],
   "source": [
    "d='xyz'\n",
    "b = [ i*j for i in d for j in range(1,5)]\n",
    "print(b)"
   ]
  },
  {
   "cell_type": "code",
   "execution_count": 48,
   "metadata": {},
   "outputs": [
    {
     "name": "stdout",
     "output_type": "stream",
     "text": [
      "['x', 'y', 'z', 'xx', 'yy', 'zz', 'xxx', 'yyy', 'zzz', 'xxxx', 'yyyy', 'zzzz']\n",
      "['x', 'y', 'z', 'xx', 'yy', 'zz', 'xxx', 'yyy', 'zzz', 'xxxx', 'yyyy', 'zzzz']\n"
     ]
    }
   ],
   "source": [
    "#method 1\n",
    "a=[]\n",
    "for i in range(1,5):\n",
    "    for j in d:\n",
    "        k=i*j\n",
    "        a.append(k)\n",
    "print(a)\n",
    "\n",
    "#method 2\n",
    "a=[i*j for i in range(1,5) for j in d]\n",
    "print(a)"
   ]
  },
  {
   "cell_type": "code",
   "execution_count": 57,
   "metadata": {},
   "outputs": [
    {
     "name": "stdout",
     "output_type": "stream",
     "text": [
      "[2, 3, 3, 4, 4, 5, 5, 6, 6, 7]\n",
      "[[2], [3], [3], [4], [4], [5], [5], [6], [6], [7]]\n",
      "[[2], [3], [3], [4], [4], [5], [5], [6]]\n"
     ]
    }
   ],
   "source": [
    "#method 1\n",
    "a=[]\n",
    "b=[]\n",
    "for i in range(1,6):\n",
    "    for j in [1,2]:\n",
    "        z=i+j\n",
    "        y=[i+j]\n",
    "        a.append(z)\n",
    "        b.append(y)\n",
    "print(a)\n",
    "print(b)\n",
    "\n",
    "#method 2\n",
    "f=[1,2]\n",
    "a=[[i+j] for i in range(1,5) for j in [1,2]]\n",
    "print(a)"
   ]
  },
  {
   "cell_type": "code",
   "execution_count": 66,
   "metadata": {},
   "outputs": [
    {
     "name": "stdout",
     "output_type": "stream",
     "text": [
      "[[2, 3, 4, 5], [3, 4, 5, 6], [4, 5, 6, 7], [5, 6, 7, 8]]\n"
     ]
    }
   ],
   "source": [
    "f=[1,2,3,4]\n",
    "a=[[i+j for i in f] for j in range(1,5)]\n",
    "print(a)"
   ]
  },
  {
   "cell_type": "code",
   "execution_count": 73,
   "metadata": {},
   "outputs": [
    {
     "name": "stdout",
     "output_type": "stream",
     "text": [
      "[(1, 1), (1, 2), (1, 3), (2, 1), (2, 2), (2, 3), (3, 1), (3, 2), (3, 3)]\n"
     ]
    }
   ],
   "source": [
    "f=[1,2,3]\n",
    "a=[(i,j) for i in f for j in f]\n",
    "print(a)"
   ]
  },
  {
   "cell_type": "code",
   "execution_count": 88,
   "metadata": {},
   "outputs": [
    {
     "data": {
      "text/plain": [
       "'priyadharashini'"
      ]
     },
     "execution_count": 88,
     "metadata": {},
     "output_type": "execute_result"
    }
   ],
   "source": [
    "#longest word()\n",
    "\n",
    "def longest_word(word):\n",
    "    len_word=0\n",
    "    for s in len_word:\n",
    "        if len(s) > digits:\n",
    "                digits = len(s)\n",
    "                l_word = s\n",
    "    return l_word\n",
    "\n",
    "a=[\"monisha\",\"vg\",\"ang\",\"gokul\",\"priyadharashini\"]\n",
    "longest_word(a)\n",
    "\n"
   ]
  },
  {
   "cell_type": "code",
   "execution_count": 137,
   "metadata": {},
   "outputs": [
    {
     "name": "stdout",
     "output_type": "stream",
     "text": [
      "9.921567416492215\n",
      "9.921567416492215\n"
     ]
    }
   ],
   "source": [
    "#task 2 1.1 class concept \n",
    "\n",
    "from __future__ import division\n",
    "\n",
    "class area_triangle:\n",
    "    \n",
    "    def __init__(self,a,b,c):\n",
    "        self.a=float(a)\n",
    "        self.b=float(b)\n",
    "        self.c=float(c)\n",
    "        \n",
    "    def calculte(self):\n",
    "        s=float((self.a+self.b+self.c)/2)\n",
    "        area=float((s*(s-self.a)*(s-self.b)*(s-self.c)) ** 0.5)\n",
    "        return area\n",
    "    \n",
    "m=area_triangle(4,5,6)\n",
    "print(m.calculte())\n",
    "t=m.calculte()\n",
    "print(t)\n"
   ]
  },
  {
   "cell_type": "code",
   "execution_count": 139,
   "metadata": {},
   "outputs": [
    {
     "name": "stdout",
     "output_type": "stream",
     "text": [
      "enter the wordsmonisha,viji,hani,gopi,harsha,ang\n",
      "enter a number3\n",
      "['monisha', 'viji', 'hani', 'gopi', 'harsha']\n"
     ]
    }
   ],
   "source": [
    "#filter words \n",
    "def filter_word(string,n):\n",
    "    word=[]\n",
    "    for i in range(len(string)):\n",
    "        if len(string[i]) > n:\n",
    "             word.append(string[i])\n",
    "    return word\n",
    "    \n",
    "a=input(\"enter the words\").split(\",\")\n",
    "n=int(input(\"enter a number\"))\n",
    "print(filter_word(a,n))\n"
   ]
  },
  {
   "cell_type": "code",
   "execution_count": 3,
   "metadata": {},
   "outputs": [
    {
     "name": "stdout",
     "output_type": "stream",
     "text": [
      "[2, 3, 5, 7]\n"
     ]
    }
   ],
   "source": [
    "# length of the words \n",
    "#task 2 2.1\n",
    "def word_integer(string):\n",
    "    words_len=[]\n",
    "    for i in string:\n",
    "        k=len(i)\n",
    "        words_len.append(k)\n",
    "    return words_len\n",
    "\n",
    "a=[\"ab\",\"bcd\",\"abcde\",\"abcdefg\"]\n",
    "b=word_integer(a)\n",
    "print(b)"
   ]
  },
  {
   "cell_type": "code",
   "execution_count": 6,
   "metadata": {},
   "outputs": [
    {
     "name": "stdout",
     "output_type": "stream",
     "text": [
      "enter a character ::  b\n",
      "False\n"
     ]
    }
   ],
   "source": [
    "# vowels string \n",
    "#task 2 2.2 \n",
    "\n",
    "a=\"aeiou\"\n",
    "\n",
    "def vowels(string):\n",
    "    strg =string.lower()\n",
    "    if strg == 'a' or strg == 'e' or strg == 'i' or strg == 'o' or strg == 'u':\n",
    "          return True\n",
    "    else:\n",
    "          return False\n",
    "  \n",
    "b=input(\"enter a character ::  \")\n",
    "c=vowels(b)\n",
    "print(c)"
   ]
  },
  {
   "cell_type": "code",
   "execution_count": 10,
   "metadata": {},
   "outputs": [
    {
     "data": {
      "text/plain": [
       "9"
      ]
     },
     "execution_count": 10,
     "metadata": {},
     "output_type": "execute_result"
    }
   ],
   "source": [
    "#my own reduce function \n",
    "\n",
    "def my_reduce(a,b):\n",
    "    return a+b\n",
    "\n",
    "my_reduce(5,4)\n"
   ]
  },
  {
   "cell_type": "code",
   "execution_count": null,
   "metadata": {},
   "outputs": [],
   "source": []
  },
  {
   "cell_type": "code",
   "execution_count": null,
   "metadata": {},
   "outputs": [],
   "source": []
  }
 ],
 "metadata": {
  "kernelspec": {
   "display_name": "Python 3",
   "language": "python",
   "name": "python3"
  },
  "language_info": {
   "codemirror_mode": {
    "name": "ipython",
    "version": 3
   },
   "file_extension": ".py",
   "mimetype": "text/x-python",
   "name": "python",
   "nbconvert_exporter": "python",
   "pygments_lexer": "ipython3",
   "version": "3.7.6"
  }
 },
 "nbformat": 4,
 "nbformat_minor": 4
}
